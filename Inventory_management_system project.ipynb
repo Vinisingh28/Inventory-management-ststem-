{
  "nbformat": 4,
  "nbformat_minor": 0,
  "metadata": {
    "colab": {
      "name": "Inventory management system.ipynb",
      "provenance": [],
      "collapsed_sections": []
    },
    "kernelspec": {
      "name": "python3",
      "display_name": "Python 3"
    },
    "language_info": {
      "name": "python"
    }
  },
  "cells": [
    {
      "cell_type": "markdown",
      "metadata": {
        "id": "YnxK-_fmAzWW"
      },
      "source": [
        "#record getting function\n"
      ]
    },
    {
      "cell_type": "code",
      "metadata": {
        "id": "JbBZsg4fCC0U"
      },
      "source": [
        "import json\n",
        "with open('records.json') as f:\n",
        "    data=json.load(f) #loading data from record.json file\n",
        "#print(item)\n",
        "sales={}"
      ],
      "execution_count": 2,
      "outputs": []
    },
    {
      "cell_type": "markdown",
      "metadata": {
        "id": "wZJd5Tz6qBl5"
      },
      "source": [
        "# Function of record updating in inventory function"
      ]
    },
    {
      "cell_type": "code",
      "metadata": {
        "id": "yIjrz6I4hIk8"
      },
      "source": [
        "def updating_inventory(data):\n",
        "     with open(\"records.json\", \"w\") as jsonFile:\n",
        "        json.dump(data, jsonFile)\n",
        "        \n",
        "    "
      ],
      "execution_count": 3,
      "outputs": []
    },
    {
      "cell_type": "markdown",
      "metadata": {
        "id": "9FHO3SmtnWTi"
      },
      "source": [
        "# Function of adding purchasing item in sales.json file "
      ]
    },
    {
      "cell_type": "code",
      "metadata": {
        "id": "HQk9AbdHn2hh"
      },
      "source": [
        "def add_sales(sales):\n",
        "    js=json.dumps(str(sales))\n",
        "    fd=open(\"sales.json\",'w')\n",
        "    fd.write(js)\n",
        "    fd.close()"
      ],
      "execution_count": 4,
      "outputs": []
    },
    {
      "cell_type": "markdown",
      "metadata": {
        "id": "KLhiHHPBFt6X"
      },
      "source": [
        "#Purchasing Item "
      ]
    },
    {
      "cell_type": "code",
      "metadata": {
        "id": "4vzZNEVlD36Q",
        "colab": {
          "base_uri": "https://localhost:8080/"
        },
        "outputId": "d6e88248-45f5-438d-c9e0-8258fb1d2c7e"
      },
      "source": [
        "\n",
        "id_prod=input(\"Enter the product id of product which you want to purchase: \")\n",
        "quan=int(input(\"Enter how much quantity you want: \"))\n",
        "def bill_calculate(id_prod,quan):\n",
        "    item=data[id_prod]\n",
        "    if quan==0:\n",
        "         print(\"Invalid Input\")\n",
        "    elif quan>item['quantity']:\n",
        "         print(\"Sorry we have available only\",item['quantity'],\" quantity at this time.\")\n",
        "         print(\"Do you want to purchase\",item['quantity'])\n",
        "         user_ans=input('Give your ans in \"Y\" or \"N\"')\n",
        "         if user_ans=='Y':\n",
        "              return item['quantity']*item['price']\n",
        "         else:\n",
        "              return 0\n",
        "    elif quan<item['quantity']:\n",
        "              return quan*item['price']\n",
        "def bill_print(id_prod,quan):\n",
        "        item=data[id_prod]\n",
        "        total_price=bill_calculate(id_prod,quan)\n",
        "        print(\"******************************\")\n",
        "        print(\"Product ID: \",id_prod)\n",
        "        print(\"Name of the product is:\",item['name'])\n",
        "        print(\"Name of the brand is: \",item['brand'])\n",
        "        print(\"Price of the one item is: \",item['price'])\n",
        "        print(\"Quantity you purchased: \",quan)\n",
        "        print(\"******************************\")\n",
        "        print(\"Billing Amount: \",total_price)\n",
        "        print(\"******************************\")\n",
        "bill_print(id_prod,quan)\n",
        "data[id_prod]['quantity']=data[id_prod]['quantity']-quan\n",
        "updating_inventory(data)\n",
        "item=data[id_prod]\n",
        "sales[id_prod]={\"name\":item['name'],\"brand\":item['brand'],\"Total_price\":item['price']*quan,\"quantity\":quan}\n",
        "add_sales(sales)"
      ],
      "execution_count": 7,
      "outputs": [
        {
          "output_type": "stream",
          "name": "stdout",
          "text": [
            "Enter the product id of product which you want to purchase: 1005\n",
            "Enter how much quantity you want: 2\n",
            "******************************\n",
            "Product ID:  1005\n",
            "Name of the product is: Bag\n",
            "Name of the brand is:  HP\n",
            "Price of the one item is:  300\n",
            "Quantity you purchased:  2\n",
            "******************************\n",
            "Billing Amount:  600\n",
            "******************************\n"
          ]
        }
      ]
    },
    {
      "cell_type": "markdown",
      "metadata": {
        "id": "5t1mvVgMifSJ"
      },
      "source": [
        "#Adding more quantity of product in inventory"
      ]
    },
    {
      "cell_type": "code",
      "metadata": {
        "colab": {
          "base_uri": "https://localhost:8080/"
        },
        "id": "wy85-2fKidly",
        "outputId": "09a1b01c-ffad-4972-dfd6-f0927c5a6f51"
      },
      "source": [
        "print(\"These products are available in inventory\")\n",
        "for i in data:\n",
        "   print('product id:',i,'product name: ',data[i]['name'],\" \"+'quantity:',data[i]['quantity'],)\n",
        "add_prod_id=input(\"Enter Product id which product you want to add in inventory: \")\n",
        "add_quan=int(input(\"Enter quantity of the product: \"))\n",
        "if add_prod_id in data:\n",
        "      data[add_prod_id]['quantity']=data[add_prod_id]['quantity']+add_quan\n",
        "      updating_inventory(data)\n",
        "else:\n",
        "    add_name=input(\"Enter Product name which  you want to add in inventory: \")\n",
        "    add_brand=input(\"Enter Product brand which  you want to add in inventory: \")\n",
        "    add_price=int(input(\"Enter price of the product: \"))\n",
        "    data[add_prod_id]={\"name\":add_name,\"brand\":add_brand,\"price\":add_price,\"quantity\":add_quan}\n",
        "    updating_inventory(data)\n",
        "print(\"Item added successfully\")"
      ],
      "execution_count": 6,
      "outputs": [
        {
          "output_type": "stream",
          "name": "stdout",
          "text": [
            "These products are available in inventory\n",
            "product id: 1000 product name:  maggie  quantity: 20\n",
            "product id: 1001 product name:  kurkure  quantity: 25\n",
            "product id: 1002 product name:  pen  quantity: 50\n",
            "product id: 1003 product name:  Pencil  quantity: 30\n",
            "product id: 1004 product name:  Goodday  quantity: 30\n",
            "product id: 1005 product name:  Bag  quantity: 8\n",
            "product id: 1006 product name:  Laptop  quantity: 10\n",
            "product id: 1007 product name:  chair  quantity: 20\n",
            "product id: 1008 product name:  Copy  quantity: 40\n",
            "product id: 1009 product name:  Tiffin-box  quantity: 20\n",
            "product id: 1010 product name:  Bootle  quantity: 20\n",
            "product id: 1011 product name:  Fan  quantity: 10\n",
            "product id: 1012 product name:  Earphone  quantity: 10\n",
            "product id: 1013 product name:  Toothpaste  quantity: 10\n",
            "product id: 1014 product name:  Brush  quantity: 40\n",
            "product id: 1015 product name:  tiger_biscuit  quantity: 50\n",
            "product id: 1016 product name:  Mazza  quantity: 40\n",
            "product id: 1017 product name:  cococola  quantity: 20\n",
            "product id: 1018 product name:  Table  quantity: 20\n",
            "product id: 1019 product name:  Masala  quantity: 10\n",
            "product id: 1020 product name:  Cholate  quantity: 40\n",
            "product id: 1021 product name:  Bedshit  quantity: 30\n",
            "product id: 1022 product name:  Jeans  quantity: 20\n",
            "product id: 1023 product name:  Mobile  quantity: 10\n",
            "product id: 1024 product name:  Lays  quantity: 40\n",
            "product id: 1025 product name:  Fruits  quantity: 10\n",
            "product id: 1026 product name:  Glass  quantity: 20\n",
            "product id: 1027 product name:  Pens  quantity: 45\n",
            "product id: 1028 product name:  steel  quantity: 20\n",
            "product id: 1029 product name:  cake  quantity: 100\n",
            "product id: 1030 product name:  Balloon  quantity: 10\n",
            "Enter Product id which product you want to add in inventory: 1001\n",
            "Enter quantity of the product: 5\n",
            "Item added successfully\n"
          ]
        }
      ]
    },
    {
      "cell_type": "code",
      "metadata": {
        "id": "RXelLv8XkdGG"
      },
      "source": [
        ""
      ],
      "execution_count": null,
      "outputs": []
    }
  ]
}